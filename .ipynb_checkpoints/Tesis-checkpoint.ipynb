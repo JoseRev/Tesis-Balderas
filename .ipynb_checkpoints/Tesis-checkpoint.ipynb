{
 "cells": [
  {
   "cell_type": "markdown",
   "metadata": {},
   "source": [
    "# Programa para Recuperar Contraseñas de Conmutadores y Telefonos IP"
   ]
  },
  {
   "cell_type": "code",
   "execution_count": null,
   "metadata": {},
   "outputs": [],
   "source": [
    "import pandas as pd"
   ]
  },
  {
   "cell_type": "markdown",
   "metadata": {},
   "source": [
    "### Leer Credenciales:"
   ]
  },
  {
   "cell_type": "code",
   "execution_count": null,
   "metadata": {},
   "outputs": [],
   "source": []
  },
  {
   "cell_type": "markdown",
   "metadata": {},
   "source": [
    "### Funciones "
   ]
  },
  {
   "cell_type": "code",
   "execution_count": null,
   "metadata": {},
   "outputs": [],
   "source": [
    "################ ISSABEL ################ \n",
    "def Issabel_password(credenciales, web):\n",
    "    for credencial in credenciales:\n",
    "        web.type(credencial[\"usuario\"], into='Username')\n",
    "        web.type(credencial[\"password\"] , into='Password')\n",
    "        web.click(xpath='/html/body/div/div[3]/div/form/div[3]/button')\n",
    "        if not web.exists(\"Incorrect username\"):\n",
    "            break\n",
    "    web.click(xpath=\"/html/body/div/div[4]/div[2]\")\n",
    "    return credencial[\"usuario\"],credencial[\"password\"] "
   ]
  },
  {
   "cell_type": "code",
   "execution_count": null,
   "metadata": {},
   "outputs": [],
   "source": []
  },
  {
   "cell_type": "code",
   "execution_count": null,
   "metadata": {},
   "outputs": [],
   "source": []
  },
  {
   "cell_type": "markdown",
   "metadata": {},
   "source": [
    "### Lista de Issabel, por cada uno:"
   ]
  },
  {
   "cell_type": "code",
   "execution_count": null,
   "metadata": {},
   "outputs": [],
   "source": [
    "ip='10.45.135.14'\n",
    "\n",
    "web = Browser()\n",
    "web.go_to('http://' + ip)\n",
    "usuario, contraseña = Issabel_password(credenciales, web)"
   ]
  },
  {
   "cell_type": "code",
   "execution_count": null,
   "metadata": {},
   "outputs": [],
   "source": [
    "web.close_current_tab()"
   ]
  },
  {
   "cell_type": "code",
   "execution_count": null,
   "metadata": {},
   "outputs": [],
   "source": [
    "if usario != -1 and usuario !=None:\n",
    "    #Agrega en df usuario y contraseña\n",
    "elif usuario == -1:\n",
    "    #Agrega en df Usuarios no validos"
   ]
  },
  {
   "cell_type": "markdown",
   "metadata": {},
   "source": [
    "### Lista de Yealink, por cada uno:"
   ]
  }
 ],
 "metadata": {
  "kernelspec": {
   "display_name": "Python 3",
   "language": "python",
   "name": "python3"
  },
  "language_info": {
   "codemirror_mode": {
    "name": "ipython",
    "version": 3
   },
   "file_extension": ".py",
   "mimetype": "text/x-python",
   "name": "python",
   "nbconvert_exporter": "python",
   "pygments_lexer": "ipython3",
   "version": "3.8.5"
  }
 },
 "nbformat": 4,
 "nbformat_minor": 4
}
