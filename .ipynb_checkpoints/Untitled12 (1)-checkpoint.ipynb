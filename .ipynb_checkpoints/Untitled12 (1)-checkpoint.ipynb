{
 "cells": [
  {
   "cell_type": "code",
   "execution_count": 21,
   "metadata": {},
   "outputs": [],
   "source": [
    "from webbot import Browser"
   ]
  },
  {
   "cell_type": "markdown",
   "metadata": {},
   "source": [
    "## Ejemplo Instrucciones de webbot"
   ]
  },
  {
   "cell_type": "code",
   "execution_count": 26,
   "metadata": {},
   "outputs": [],
   "source": [
    "web.type('admin' , into='Username')\n",
    "web.type('admin123' , into='Password')\n",
    "web.click(xpath='/html/body/div/div[3]/div/form/div[3]/button')"
   ]
  },
  {
   "cell_type": "markdown",
   "metadata": {},
   "source": [
    "## Credenciales"
   ]
  },
  {
   "cell_type": "code",
   "execution_count": 32,
   "metadata": {},
   "outputs": [],
   "source": [
    "credenciales=[{'usuario':'admin', 'password':'unodostres'}, {'usuario':'admin', 'password':'admin'}, {'usuario':'admin', 'password':'admin123'}]"
   ]
  },
  {
   "cell_type": "markdown",
   "metadata": {},
   "source": [
    "## Funciones"
   ]
  },
  {
   "cell_type": "code",
   "execution_count": 34,
   "metadata": {},
   "outputs": [],
   "source": [
    "def Ingresar_Issabel(credenciales, web):\n",
    "    for credencial in credenciales:\n",
    "        web.type(credencial[\"usuario\"], into='Username')\n",
    "        web.type(credencial[\"password\"] , into='Password')\n",
    "        web.click(xpath='/html/body/div/div[3]/div/form/div[3]/button')\n",
    "        if not web.exists(\"Incorrect username\"):\n",
    "            break\n",
    "    web.click(xpath=\"/html/body/div/div[4]/div[2]\")"
   ]
  },
  {
   "cell_type": "markdown",
   "metadata": {},
   "source": [
    "## Metodo para probar contraseñas, para ingresar a la Pagina principal de Issabel"
   ]
  },
  {
   "cell_type": "code",
   "execution_count": 35,
   "metadata": {},
   "outputs": [],
   "source": [
    "web = Browser()\n",
    "web.go_to('https://localhost:801')\n",
    "Ingresar_Issabel(credenciales, web)"
   ]
  }
 ],
 "metadata": {
  "kernelspec": {
   "display_name": "Python 3",
   "language": "python",
   "name": "python3"
  },
  "language_info": {
   "codemirror_mode": {
    "name": "ipython",
    "version": 3
   },
   "file_extension": ".py",
   "mimetype": "text/x-python",
   "name": "python",
   "nbconvert_exporter": "python",
   "pygments_lexer": "ipython3",
   "version": "3.8.5"
  }
 },
 "nbformat": 4,
 "nbformat_minor": 4
}
